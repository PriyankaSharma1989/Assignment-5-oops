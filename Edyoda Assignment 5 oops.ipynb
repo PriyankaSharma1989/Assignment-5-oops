{
 "cells": [
  {
   "cell_type": "code",
   "execution_count": 5,
   "id": "f2dd169f",
   "metadata": {},
   "outputs": [
    {
     "name": "stdout",
     "output_type": "stream",
     "text": [
      "enter 'x' value:10\n",
      "enter 'n' value:2\n",
      "pow(x,n)= 100\n"
     ]
    }
   ],
   "source": [
    "# Write a Python class to implement pow(x, n)\n",
    "# Explanation:Use should be able to find the nth power of the x.(i.e x*x*x*x...n times)\n",
    "\n",
    "#You must implement it using Class\n",
    "\n",
    "#Sample Input:\n",
    "\n",
    "# x: 10\n",
    "\n",
    "# n: 2\n",
    "# Sample Output:\n",
    "\n",
    "# 100\n",
    "\n",
    "class Power:\n",
    "      def pow(self,x,n):\n",
    "            print(\"pow(x,n)=\",x**n)\n",
    "            \n",
    "p=Power()\n",
    "x=int(input(\"enter 'x' value:\"))\n",
    "n=int(input(\"enter 'n' value:\"))\n",
    "p.pow(x,n)\n",
    "\n"
   ]
  },
  {
   "cell_type": "code",
   "execution_count": null,
   "id": "006dcd8d",
   "metadata": {},
   "outputs": [],
   "source": []
  }
 ],
 "metadata": {
  "kernelspec": {
   "display_name": "Python 3 (ipykernel)",
   "language": "python",
   "name": "python3"
  },
  "language_info": {
   "codemirror_mode": {
    "name": "ipython",
    "version": 3
   },
   "file_extension": ".py",
   "mimetype": "text/x-python",
   "name": "python",
   "nbconvert_exporter": "python",
   "pygments_lexer": "ipython3",
   "version": "3.9.12"
  }
 },
 "nbformat": 4,
 "nbformat_minor": 5
}
